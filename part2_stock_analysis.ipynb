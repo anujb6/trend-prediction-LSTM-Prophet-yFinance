{
  "nbformat": 4,
  "nbformat_minor": 0,
  "metadata": {
    "colab": {
      "provenance": [],
      "authorship_tag": "ABX9TyPmqnJKQUySf28K5NkLGPvq"
    },
    "kernelspec": {
      "name": "python3",
      "display_name": "Python 3"
    },
    "language_info": {
      "name": "python"
    }
  },
  "cells": [
    {
      "cell_type": "markdown",
      "source": [
        "Task is to predict stock prices for a few days, which is a time series problem"
      ],
      "metadata": {
        "id": "RJIq83l_0V5G"
      }
    },
    {
      "cell_type": "code",
      "execution_count": 5,
      "metadata": {
        "id": "pAkOrgTnGLxy"
      },
      "outputs": [],
      "source": [
        "import numpy as np \n",
        "import pandas as pd\n",
        "from nsepy import get_history as gh\n",
        "import datetime as dt\n",
        "import matplotlib.pyplot as plt\n",
        "from sklearn import model_selection\n",
        "from sklearn.metrics import confusion_matrix\n",
        "from sklearn.preprocessing import StandardScaler, MinMaxScaler\n",
        "from sklearn.model_selection import train_test_split\n",
        "from keras.models import Sequential\n",
        "from keras.layers import Dense, LSTM, Dropout"
      ]
    },
    {
      "cell_type": "markdown",
      "source": [
        "fetching historical data from 2015 till now."
      ],
      "metadata": {
        "id": "Si3U9D35Zo_w"
      }
    },
    {
      "cell_type": "code",
      "source": [
        "start = dt.datetime(2015,1,1)\n",
        "end = dt.datetime.today()\n",
        "data = gh(symbol='SBIN',start=start,end=end)\n",
        "data.head()"
      ],
      "metadata": {
        "colab": {
          "base_uri": "https://localhost:8080/",
          "height": 620
        },
        "id": "74ic5tCAZmE_",
        "outputId": "60bdc510-9820-4075-ce47-7ddf0e042209"
      },
      "execution_count": 9,
      "outputs": [
        {
          "output_type": "stream",
          "name": "stderr",
          "text": [
            "WARNING:urllib3.connectionpool:Connection pool is full, discarding connection: www1.nseindia.com. Connection pool size: 10\n",
            "WARNING:urllib3.connectionpool:Connection pool is full, discarding connection: www1.nseindia.com. Connection pool size: 10\n",
            "WARNING:urllib3.connectionpool:Connection pool is full, discarding connection: www1.nseindia.com. Connection pool size: 10\n",
            "WARNING:urllib3.connectionpool:Connection pool is full, discarding connection: www1.nseindia.com. Connection pool size: 10\n",
            "WARNING:urllib3.connectionpool:Connection pool is full, discarding connection: www1.nseindia.com. Connection pool size: 10\n",
            "WARNING:urllib3.connectionpool:Connection pool is full, discarding connection: www1.nseindia.com. Connection pool size: 10\n",
            "WARNING:urllib3.connectionpool:Connection pool is full, discarding connection: www1.nseindia.com. Connection pool size: 10\n",
            "WARNING:urllib3.connectionpool:Connection pool is full, discarding connection: www1.nseindia.com. Connection pool size: 10\n",
            "WARNING:urllib3.connectionpool:Connection pool is full, discarding connection: www1.nseindia.com. Connection pool size: 10\n",
            "WARNING:urllib3.connectionpool:Connection pool is full, discarding connection: www1.nseindia.com. Connection pool size: 10\n",
            "WARNING:urllib3.connectionpool:Connection pool is full, discarding connection: www1.nseindia.com. Connection pool size: 10\n",
            "WARNING:urllib3.connectionpool:Connection pool is full, discarding connection: www1.nseindia.com. Connection pool size: 10\n",
            "WARNING:urllib3.connectionpool:Connection pool is full, discarding connection: www1.nseindia.com. Connection pool size: 10\n",
            "WARNING:urllib3.connectionpool:Connection pool is full, discarding connection: www1.nseindia.com. Connection pool size: 10\n",
            "WARNING:urllib3.connectionpool:Connection pool is full, discarding connection: www1.nseindia.com. Connection pool size: 10\n",
            "WARNING:urllib3.connectionpool:Connection pool is full, discarding connection: www1.nseindia.com. Connection pool size: 10\n",
            "WARNING:urllib3.connectionpool:Connection pool is full, discarding connection: www1.nseindia.com. Connection pool size: 10\n",
            "WARNING:urllib3.connectionpool:Connection pool is full, discarding connection: www1.nseindia.com. Connection pool size: 10\n",
            "WARNING:urllib3.connectionpool:Connection pool is full, discarding connection: www1.nseindia.com. Connection pool size: 10\n",
            "WARNING:urllib3.connectionpool:Connection pool is full, discarding connection: www1.nseindia.com. Connection pool size: 10\n",
            "WARNING:urllib3.connectionpool:Connection pool is full, discarding connection: www1.nseindia.com. Connection pool size: 10\n"
          ]
        },
        {
          "output_type": "execute_result",
          "data": {
            "text/plain": [
              "           Symbol Series  Prev Close  ...  Trades  Deliverable Volume  %Deliverble\n",
              "Date                                  ...                                         \n",
              "2015-01-01   SBIN     EQ      311.85  ...   58688             1877677       0.3059\n",
              "2015-01-02   SBIN     EQ      314.00  ...   79553             4221685       0.4249\n",
              "2015-01-05   SBIN     EQ      315.25  ...   88236             3845173       0.4208\n",
              "2015-01-06   SBIN     EQ      312.75  ...  169268             7424847       0.4844\n",
              "2015-01-07   SBIN     EQ      299.90  ...  147185             5631400       0.3743\n",
              "\n",
              "[5 rows x 14 columns]"
            ],
            "text/html": [
              "\n",
              "  <div id=\"df-88a4fddb-e8d5-4966-b7e9-26c7da3899c2\">\n",
              "    <div class=\"colab-df-container\">\n",
              "      <div>\n",
              "<style scoped>\n",
              "    .dataframe tbody tr th:only-of-type {\n",
              "        vertical-align: middle;\n",
              "    }\n",
              "\n",
              "    .dataframe tbody tr th {\n",
              "        vertical-align: top;\n",
              "    }\n",
              "\n",
              "    .dataframe thead th {\n",
              "        text-align: right;\n",
              "    }\n",
              "</style>\n",
              "<table border=\"1\" class=\"dataframe\">\n",
              "  <thead>\n",
              "    <tr style=\"text-align: right;\">\n",
              "      <th></th>\n",
              "      <th>Symbol</th>\n",
              "      <th>Series</th>\n",
              "      <th>Prev Close</th>\n",
              "      <th>Open</th>\n",
              "      <th>High</th>\n",
              "      <th>Low</th>\n",
              "      <th>Last</th>\n",
              "      <th>Close</th>\n",
              "      <th>VWAP</th>\n",
              "      <th>Volume</th>\n",
              "      <th>Turnover</th>\n",
              "      <th>Trades</th>\n",
              "      <th>Deliverable Volume</th>\n",
              "      <th>%Deliverble</th>\n",
              "    </tr>\n",
              "    <tr>\n",
              "      <th>Date</th>\n",
              "      <th></th>\n",
              "      <th></th>\n",
              "      <th></th>\n",
              "      <th></th>\n",
              "      <th></th>\n",
              "      <th></th>\n",
              "      <th></th>\n",
              "      <th></th>\n",
              "      <th></th>\n",
              "      <th></th>\n",
              "      <th></th>\n",
              "      <th></th>\n",
              "      <th></th>\n",
              "      <th></th>\n",
              "    </tr>\n",
              "  </thead>\n",
              "  <tbody>\n",
              "    <tr>\n",
              "      <th>2015-01-01</th>\n",
              "      <td>SBIN</td>\n",
              "      <td>EQ</td>\n",
              "      <td>311.85</td>\n",
              "      <td>312.45</td>\n",
              "      <td>315.00</td>\n",
              "      <td>310.70</td>\n",
              "      <td>314.0</td>\n",
              "      <td>314.00</td>\n",
              "      <td>313.67</td>\n",
              "      <td>6138488</td>\n",
              "      <td>1.925489e+14</td>\n",
              "      <td>58688</td>\n",
              "      <td>1877677</td>\n",
              "      <td>0.3059</td>\n",
              "    </tr>\n",
              "    <tr>\n",
              "      <th>2015-01-02</th>\n",
              "      <td>SBIN</td>\n",
              "      <td>EQ</td>\n",
              "      <td>314.00</td>\n",
              "      <td>314.35</td>\n",
              "      <td>318.30</td>\n",
              "      <td>314.35</td>\n",
              "      <td>315.6</td>\n",
              "      <td>315.25</td>\n",
              "      <td>316.80</td>\n",
              "      <td>9935094</td>\n",
              "      <td>3.147389e+14</td>\n",
              "      <td>79553</td>\n",
              "      <td>4221685</td>\n",
              "      <td>0.4249</td>\n",
              "    </tr>\n",
              "    <tr>\n",
              "      <th>2015-01-05</th>\n",
              "      <td>SBIN</td>\n",
              "      <td>EQ</td>\n",
              "      <td>315.25</td>\n",
              "      <td>316.25</td>\n",
              "      <td>316.80</td>\n",
              "      <td>312.10</td>\n",
              "      <td>312.8</td>\n",
              "      <td>312.75</td>\n",
              "      <td>313.84</td>\n",
              "      <td>9136716</td>\n",
              "      <td>2.867432e+14</td>\n",
              "      <td>88236</td>\n",
              "      <td>3845173</td>\n",
              "      <td>0.4208</td>\n",
              "    </tr>\n",
              "    <tr>\n",
              "      <th>2015-01-06</th>\n",
              "      <td>SBIN</td>\n",
              "      <td>EQ</td>\n",
              "      <td>312.75</td>\n",
              "      <td>310.00</td>\n",
              "      <td>311.10</td>\n",
              "      <td>298.70</td>\n",
              "      <td>299.9</td>\n",
              "      <td>299.90</td>\n",
              "      <td>305.14</td>\n",
              "      <td>15329257</td>\n",
              "      <td>4.677601e+14</td>\n",
              "      <td>169268</td>\n",
              "      <td>7424847</td>\n",
              "      <td>0.4844</td>\n",
              "    </tr>\n",
              "    <tr>\n",
              "      <th>2015-01-07</th>\n",
              "      <td>SBIN</td>\n",
              "      <td>EQ</td>\n",
              "      <td>299.90</td>\n",
              "      <td>300.00</td>\n",
              "      <td>302.55</td>\n",
              "      <td>295.15</td>\n",
              "      <td>301.4</td>\n",
              "      <td>300.15</td>\n",
              "      <td>299.95</td>\n",
              "      <td>15046745</td>\n",
              "      <td>4.513243e+14</td>\n",
              "      <td>147185</td>\n",
              "      <td>5631400</td>\n",
              "      <td>0.3743</td>\n",
              "    </tr>\n",
              "  </tbody>\n",
              "</table>\n",
              "</div>\n",
              "      <button class=\"colab-df-convert\" onclick=\"convertToInteractive('df-88a4fddb-e8d5-4966-b7e9-26c7da3899c2')\"\n",
              "              title=\"Convert this dataframe to an interactive table.\"\n",
              "              style=\"display:none;\">\n",
              "        \n",
              "  <svg xmlns=\"http://www.w3.org/2000/svg\" height=\"24px\"viewBox=\"0 0 24 24\"\n",
              "       width=\"24px\">\n",
              "    <path d=\"M0 0h24v24H0V0z\" fill=\"none\"/>\n",
              "    <path d=\"M18.56 5.44l.94 2.06.94-2.06 2.06-.94-2.06-.94-.94-2.06-.94 2.06-2.06.94zm-11 1L8.5 8.5l.94-2.06 2.06-.94-2.06-.94L8.5 2.5l-.94 2.06-2.06.94zm10 10l.94 2.06.94-2.06 2.06-.94-2.06-.94-.94-2.06-.94 2.06-2.06.94z\"/><path d=\"M17.41 7.96l-1.37-1.37c-.4-.4-.92-.59-1.43-.59-.52 0-1.04.2-1.43.59L10.3 9.45l-7.72 7.72c-.78.78-.78 2.05 0 2.83L4 21.41c.39.39.9.59 1.41.59.51 0 1.02-.2 1.41-.59l7.78-7.78 2.81-2.81c.8-.78.8-2.07 0-2.86zM5.41 20L4 18.59l7.72-7.72 1.47 1.35L5.41 20z\"/>\n",
              "  </svg>\n",
              "      </button>\n",
              "      \n",
              "  <style>\n",
              "    .colab-df-container {\n",
              "      display:flex;\n",
              "      flex-wrap:wrap;\n",
              "      gap: 12px;\n",
              "    }\n",
              "\n",
              "    .colab-df-convert {\n",
              "      background-color: #E8F0FE;\n",
              "      border: none;\n",
              "      border-radius: 50%;\n",
              "      cursor: pointer;\n",
              "      display: none;\n",
              "      fill: #1967D2;\n",
              "      height: 32px;\n",
              "      padding: 0 0 0 0;\n",
              "      width: 32px;\n",
              "    }\n",
              "\n",
              "    .colab-df-convert:hover {\n",
              "      background-color: #E2EBFA;\n",
              "      box-shadow: 0px 1px 2px rgba(60, 64, 67, 0.3), 0px 1px 3px 1px rgba(60, 64, 67, 0.15);\n",
              "      fill: #174EA6;\n",
              "    }\n",
              "\n",
              "    [theme=dark] .colab-df-convert {\n",
              "      background-color: #3B4455;\n",
              "      fill: #D2E3FC;\n",
              "    }\n",
              "\n",
              "    [theme=dark] .colab-df-convert:hover {\n",
              "      background-color: #434B5C;\n",
              "      box-shadow: 0px 1px 3px 1px rgba(0, 0, 0, 0.15);\n",
              "      filter: drop-shadow(0px 1px 2px rgba(0, 0, 0, 0.3));\n",
              "      fill: #FFFFFF;\n",
              "    }\n",
              "  </style>\n",
              "\n",
              "      <script>\n",
              "        const buttonEl =\n",
              "          document.querySelector('#df-88a4fddb-e8d5-4966-b7e9-26c7da3899c2 button.colab-df-convert');\n",
              "        buttonEl.style.display =\n",
              "          google.colab.kernel.accessAllowed ? 'block' : 'none';\n",
              "\n",
              "        async function convertToInteractive(key) {\n",
              "          const element = document.querySelector('#df-88a4fddb-e8d5-4966-b7e9-26c7da3899c2');\n",
              "          const dataTable =\n",
              "            await google.colab.kernel.invokeFunction('convertToInteractive',\n",
              "                                                     [key], {});\n",
              "          if (!dataTable) return;\n",
              "\n",
              "          const docLinkHtml = 'Like what you see? Visit the ' +\n",
              "            '<a target=\"_blank\" href=https://colab.research.google.com/notebooks/data_table.ipynb>data table notebook</a>'\n",
              "            + ' to learn more about interactive tables.';\n",
              "          element.innerHTML = '';\n",
              "          dataTable['output_type'] = 'display_data';\n",
              "          await google.colab.output.renderOutput(dataTable, element);\n",
              "          const docLink = document.createElement('div');\n",
              "          docLink.innerHTML = docLinkHtml;\n",
              "          element.appendChild(docLink);\n",
              "        }\n",
              "      </script>\n",
              "    </div>\n",
              "  </div>\n",
              "  "
            ]
          },
          "metadata": {},
          "execution_count": 9
        }
      ]
    },
    {
      "cell_type": "markdown",
      "source": [
        "Visualizing data "
      ],
      "metadata": {
        "id": "KW21p2Bmb9HG"
      }
    },
    {
      "cell_type": "code",
      "source": [
        "plt.figure(figsize=(9,5))\n",
        "plt.plot(data['Close'])\n",
        "plt.title('Historical Stock Value')\n",
        "plt.xlabel('Date')\n",
        "plt.ylabel('Stock Price')\n",
        "plt.show()"
      ],
      "metadata": {
        "colab": {
          "base_uri": "https://localhost:8080/",
          "height": 350
        },
        "id": "b4BJEiKzcXOv",
        "outputId": "54b6554b-d74d-4946-b6be-7be6de6f79e3"
      },
      "execution_count": 14,
      "outputs": [
        {
          "output_type": "display_data",
          "data": {
            "text/plain": [
              "<Figure size 648x360 with 1 Axes>"
            ],
            "image/png": "[encoded data removed]"
          },
          "metadata": {
            "needs_background": "light"
          }
        }
      ]
    },
    {
      "cell_type": "markdown",
      "source": [
        "trimming all other colums besides Date, Close Open, High Low CLose"
      ],
      "metadata": {
        "id": "G0MwcXX2ce2D"
      }
    },
    {
      "cell_type": "code",
      "source": [
        "data['Date'] = data.index\n",
        "data2 = pd.DataFrame(columns = ['Date', 'Open', 'High', 'Low', 'Close'])\n",
        "data2['Date'] = data['Date']\n",
        "data2['Open'] = data['Open']\n",
        "data2['High'] = data['High']\n",
        "data2['Low'] = data['Low']\n",
        "data2['Close'] = data['Close']"
      ],
      "metadata": {
        "id": "AJMNPkH0cZJi"
      },
      "execution_count": 15,
      "outputs": []
    },
    {
      "cell_type": "markdown",
      "source": [
        "preprocessing training data"
      ],
      "metadata": {
        "id": "_6S0HKU1c8OH"
      }
    },
    {
      "cell_type": "code",
      "source": [
        "train_set = data2.iloc[:, 1:2].values\n",
        "sc = MinMaxScaler(feature_range = (0, 1))\n",
        "training_scaled = sc.fit_transform(train_set)\n",
        "\n",
        "X_train = []\n",
        "Y_train = []\n",
        "\n",
        "for i in range(60, 1482):\n",
        "  X_train.append(training_scaled[i-60:i, 0])\n",
        "  Y_train.append(training_scaled[i, 0])\n",
        "\n",
        "X_train, Y_train = np.array(X_train), np.array(Y_train)\n",
        "\n",
        "X_train = np.reshape(X_train, (X_train.shape[0], X_train.shape[1], 1))"
      ],
      "metadata": {
        "id": "EM1fkDv_c0k4"
      },
      "execution_count": 21,
      "outputs": []
    },
    {
      "cell_type": "markdown",
      "source": [
        "Defining LSTM Network"
      ],
      "metadata": {
        "id": "0XOM3V1ifHi-"
      }
    },
    {
      "cell_type": "code",
      "source": [
        "regressor = Sequential()\n",
        "regressor.add(LSTM(units = 50, return_sequences = True, input_shape = (X_train.shape[1], 1)))\n",
        "regressor.add(Dropout(0.2))\n",
        "regressor.add(LSTM(units = 50, return_sequences = True))\n",
        "regressor.add(Dropout(0.2))\n",
        "regressor.add(LSTM(units = 50, return_sequences = True))\n",
        "regressor.add(Dropout(0.2))\n",
        "regressor.add(LSTM(units = 50))\n",
        "regressor.add(Dropout(0.2))\n",
        "regressor.add(Dense(units = 1))"
      ],
      "metadata": {
        "id": "7tSb7qbOfFit"
      },
      "execution_count": 22,
      "outputs": []
    },
    {
      "cell_type": "markdown",
      "source": [
        "compiling the model"
      ],
      "metadata": {
        "id": "Jx73WK1BjrV-"
      }
    },
    {
      "cell_type": "code",
      "source": [
        "regressor.compile(optimizer = 'adam', loss = 'mean_squared_error')\n",
        "regressor.fit(X_train, Y_train, epochs = 20, batch_size = 32)"
      ],
      "metadata": {
        "id": "zyT3wIjVjoZ3",
        "outputId": "5755d1d1-ecfd-4bcc-cde7-b7dba3135aca",
        "colab": {
          "base_uri": "https://localhost:8080/"
        }
      },
      "execution_count": 25,
      "outputs": [
        {
          "output_type": "stream",
          "name": "stdout",
          "text": [
            "Epoch 1/20\n",
            "45/45 [==============================] - 15s 127ms/step - loss: 0.0013\n",
            "Epoch 2/20\n",
            "45/45 [==============================] - 7s 154ms/step - loss: 9.7850e-04\n",
            "Epoch 3/20\n",
            "45/45 [==============================] - 6s 128ms/step - loss: 0.0010\n",
            "Epoch 4/20\n",
            "45/45 [==============================] - 7s 153ms/step - loss: 9.6602e-04\n",
            "Epoch 5/20\n",
            "45/45 [==============================] - 6s 128ms/step - loss: 8.5083e-04\n",
            "Epoch 6/20\n",
            "45/45 [==============================] - 7s 154ms/step - loss: 9.3011e-04\n",
            "Epoch 7/20\n",
            "45/45 [==============================] - 6s 128ms/step - loss: 8.3815e-04\n",
            "Epoch 8/20\n",
            "45/45 [==============================] - 7s 156ms/step - loss: 8.1992e-04\n",
            "Epoch 9/20\n",
            "45/45 [==============================] - 6s 127ms/step - loss: 7.5445e-04\n",
            "Epoch 10/20\n",
            "45/45 [==============================] - 7s 155ms/step - loss: 6.7696e-04\n",
            "Epoch 11/20\n",
            "45/45 [==============================] - 6s 128ms/step - loss: 7.1138e-04\n",
            "Epoch 12/20\n",
            "45/45 [==============================] - 7s 155ms/step - loss: 6.5524e-04\n",
            "Epoch 13/20\n",
            "45/45 [==============================] - 6s 129ms/step - loss: 6.6179e-04\n",
            "Epoch 14/20\n",
            "45/45 [==============================] - 7s 155ms/step - loss: 6.8759e-04\n",
            "Epoch 15/20\n",
            "45/45 [==============================] - 6s 129ms/step - loss: 6.5756e-04\n",
            "Epoch 16/20\n",
            "45/45 [==============================] - 7s 155ms/step - loss: 6.2174e-04\n",
            "Epoch 17/20\n",
            "45/45 [==============================] - 6s 128ms/step - loss: 6.3105e-04\n",
            "Epoch 18/20\n",
            "45/45 [==============================] - 7s 154ms/step - loss: 5.7850e-04\n",
            "Epoch 19/20\n",
            "45/45 [==============================] - 6s 128ms/step - loss: 5.6411e-04\n",
            "Epoch 20/20\n",
            "45/45 [==============================] - 7s 156ms/step - loss: 5.4219e-04\n"
          ]
        },
        {
          "output_type": "execute_result",
          "data": {
            "text/plain": [
              "<keras.callbacks.History at 0x7f1f3562c670>"
            ]
          },
          "metadata": {},
          "execution_count": 25
        }
      ]
    },
    {
      "cell_type": "markdown",
      "source": [
        "testing will be done on newly fetched data"
      ],
      "metadata": {
        "id": "tohwWc7GnaqH"
      }
    },
    {
      "cell_type": "code",
      "source": [
        "testdataframe= gh(symbol='SBIN',start=dt.datetime(2022,7,1),end=dt.datetime.today())\n",
        "testdataframe['Date'] = testdataframe.index\n",
        "\n",
        "testdata = pd.DataFrame(columns = ['Date', 'Open', 'High', 'Low', 'Close'])\n",
        "testdata['Date'] = testdataframe['Date']\n",
        "testdata['Open'] = testdataframe['Open']\n",
        "testdata['High'] = testdataframe['High']\n",
        "testdata['Low'] = testdataframe['Low']\n",
        "testdata['Close'] = testdataframe['Close']\n",
        "\n",
        "real_stock_price = testdata.iloc[:, 1:2].values\n",
        "\n",
        "dataset_total = pd.concat((data2['Open'], testdata['Open']), axis = 0)\n",
        "\n",
        "inputs = dataset_total[len(dataset_total) - len(testdata) - 60:].values\n",
        "inputs = inputs.reshape(-1,1)\n",
        "inputs = sc.transform(inputs)\n",
        "\n",
        "X_test = []\n",
        "for i in range(60, 235):\n",
        "    X_test.append(inputs[i-60:i, 0])\n",
        "X_test = np.array(X_test)\n",
        "X_test = np.reshape(X_test, (X_test.shape[0], X_test.shape[1], 1))"
      ],
      "metadata": {
        "id": "oTiaVfX8kd3R"
      },
      "execution_count": 56,
      "outputs": []
    },
    {
      "cell_type": "markdown",
      "source": [
        "Testing Model on new Data "
      ],
      "metadata": {
        "id": "CjyshX31qjzS"
      }
    },
    {
      "cell_type": "code",
      "source": [
        "predicted_stock_price = regressor.predict(X_test)\n",
        "predicted_stock_price = sc.inverse_transform(predicted_stock_price)"
      ],
      "metadata": {
        "id": "BwBCyVIWqhFb",
        "outputId": "3b241476-4ed4-4266-a361-4a285157cd0b",
        "colab": {
          "base_uri": "https://localhost:8080/"
        }
      },
      "execution_count": 57,
      "outputs": [
        {
          "output_type": "stream",
          "name": "stdout",
          "text": [
            "6/6 [==============================] - 0s 34ms/step\n"
          ]
        }
      ]
    },
    {
      "cell_type": "markdown",
      "source": [
        "plotting"
      ],
      "metadata": {
        "id": "dyGBrgS_qtFB"
      }
    },
    {
      "cell_type": "code",
      "source": [
        "plt.figure(figsize=(9,4))\n",
        "plt.plot(real_stock_price, color = 'green', label = 'SBI Stock Price')\n",
        "plt.plot(predicted_stock_price, color = 'red', label = 'Predicted SBI Stock Price')\n",
        "plt.title('SBI Stock Price Prediction')\n",
        "plt.xlabel('Trading Day')\n",
        "plt.ylabel('SBI Stock Price')\n",
        "plt.legend()\n",
        "plt.show()"
      ],
      "metadata": {
        "id": "6xWJ3YR1qqZQ",
        "outputId": "72541bd1-2807-4f90-fd24-07f67f8a9b44",
        "colab": {
          "base_uri": "https://localhost:8080/",
          "height": 295
        }
      },
      "execution_count": 58,
      "outputs": [
        {
          "output_type": "display_data",
          "data": {
            "text/plain": [
              "<Figure size 648x288 with 1 Axes>"
            ],
            "image/png": "[encoded data removed]"
          },
          "metadata": {
            "needs_background": "light"
          }
        }
      ]
    },
    {
      "cell_type": "code",
      "source": [],
      "metadata": {
        "id": "ctwojIg0rWFG"
      },
      "execution_count": null,
      "outputs": []
    }
  ]
}